{
 "cells": [
  {
   "cell_type": "code",
   "execution_count": 1,
   "metadata": {},
   "outputs": [
    {
     "name": "stderr",
     "output_type": "stream",
     "text": [
      "/home/layton/anaconda3/lib/python3.6/site-packages/h5py/__init__.py:36: FutureWarning: Conversion of the second argument of issubdtype from `float` to `np.floating` is deprecated. In future, it will be treated as `np.float64 == np.dtype(float).type`.\n",
      "  from ._conv import register_converters as _register_converters\n",
      "Using TensorFlow backend.\n"
     ]
    },
    {
     "ename": "ModuleNotFoundError",
     "evalue": "No module named 'tensorflow'",
     "output_type": "error",
     "traceback": [
      "\u001b[0;31m---------------------------------------------------------------------------\u001b[0m",
      "\u001b[0;31mModuleNotFoundError\u001b[0m                       Traceback (most recent call last)",
      "\u001b[0;32m<ipython-input-1-a369db7f6542>\u001b[0m in \u001b[0;36m<module>\u001b[0;34m()\u001b[0m\n\u001b[1;32m     10\u001b[0m \u001b[0;32mimport\u001b[0m \u001b[0mpandas\u001b[0m\u001b[0;34m\u001b[0m\u001b[0m\n\u001b[1;32m     11\u001b[0m \u001b[0;32mimport\u001b[0m \u001b[0mmath\u001b[0m\u001b[0;34m\u001b[0m\u001b[0m\n\u001b[0;32m---> 12\u001b[0;31m \u001b[0;32mfrom\u001b[0m \u001b[0mkeras\u001b[0m\u001b[0;34m.\u001b[0m\u001b[0mmodels\u001b[0m \u001b[0;32mimport\u001b[0m \u001b[0mSequential\u001b[0m\u001b[0;34m\u001b[0m\u001b[0m\n\u001b[0m\u001b[1;32m     13\u001b[0m \u001b[0;32mfrom\u001b[0m \u001b[0mkeras\u001b[0m\u001b[0;34m.\u001b[0m\u001b[0mlayers\u001b[0m \u001b[0;32mimport\u001b[0m \u001b[0mDense\u001b[0m\u001b[0;34m\u001b[0m\u001b[0m\n\u001b[1;32m     14\u001b[0m \u001b[0;32mfrom\u001b[0m \u001b[0mkeras\u001b[0m\u001b[0;34m.\u001b[0m\u001b[0mlayers\u001b[0m \u001b[0;32mimport\u001b[0m \u001b[0mLSTM\u001b[0m\u001b[0;34m\u001b[0m\u001b[0m\n",
      "\u001b[0;32m~/anaconda3/lib/python3.6/site-packages/keras/__init__.py\u001b[0m in \u001b[0;36m<module>\u001b[0;34m()\u001b[0m\n\u001b[1;32m      1\u001b[0m \u001b[0;32mfrom\u001b[0m \u001b[0m__future__\u001b[0m \u001b[0;32mimport\u001b[0m \u001b[0mabsolute_import\u001b[0m\u001b[0;34m\u001b[0m\u001b[0m\n\u001b[1;32m      2\u001b[0m \u001b[0;34m\u001b[0m\u001b[0m\n\u001b[0;32m----> 3\u001b[0;31m \u001b[0;32mfrom\u001b[0m \u001b[0;34m.\u001b[0m \u001b[0;32mimport\u001b[0m \u001b[0mutils\u001b[0m\u001b[0;34m\u001b[0m\u001b[0m\n\u001b[0m\u001b[1;32m      4\u001b[0m \u001b[0;32mfrom\u001b[0m \u001b[0;34m.\u001b[0m \u001b[0;32mimport\u001b[0m \u001b[0mactivations\u001b[0m\u001b[0;34m\u001b[0m\u001b[0m\n\u001b[1;32m      5\u001b[0m \u001b[0;32mfrom\u001b[0m \u001b[0;34m.\u001b[0m \u001b[0;32mimport\u001b[0m \u001b[0mapplications\u001b[0m\u001b[0;34m\u001b[0m\u001b[0m\n",
      "\u001b[0;32m~/anaconda3/lib/python3.6/site-packages/keras/utils/__init__.py\u001b[0m in \u001b[0;36m<module>\u001b[0;34m()\u001b[0m\n\u001b[1;32m      4\u001b[0m \u001b[0;32mfrom\u001b[0m \u001b[0;34m.\u001b[0m \u001b[0;32mimport\u001b[0m \u001b[0mdata_utils\u001b[0m\u001b[0;34m\u001b[0m\u001b[0m\n\u001b[1;32m      5\u001b[0m \u001b[0;32mfrom\u001b[0m \u001b[0;34m.\u001b[0m \u001b[0;32mimport\u001b[0m \u001b[0mio_utils\u001b[0m\u001b[0;34m\u001b[0m\u001b[0m\n\u001b[0;32m----> 6\u001b[0;31m \u001b[0;32mfrom\u001b[0m \u001b[0;34m.\u001b[0m \u001b[0;32mimport\u001b[0m \u001b[0mconv_utils\u001b[0m\u001b[0;34m\u001b[0m\u001b[0m\n\u001b[0m\u001b[1;32m      7\u001b[0m \u001b[0;34m\u001b[0m\u001b[0m\n\u001b[1;32m      8\u001b[0m \u001b[0;31m# Globally-importable utils.\u001b[0m\u001b[0;34m\u001b[0m\u001b[0;34m\u001b[0m\u001b[0m\n",
      "\u001b[0;32m~/anaconda3/lib/python3.6/site-packages/keras/utils/conv_utils.py\u001b[0m in \u001b[0;36m<module>\u001b[0;34m()\u001b[0m\n\u001b[1;32m      7\u001b[0m \u001b[0;32mfrom\u001b[0m \u001b[0msix\u001b[0m\u001b[0;34m.\u001b[0m\u001b[0mmoves\u001b[0m \u001b[0;32mimport\u001b[0m \u001b[0mrange\u001b[0m\u001b[0;34m\u001b[0m\u001b[0m\n\u001b[1;32m      8\u001b[0m \u001b[0;32mimport\u001b[0m \u001b[0mnumpy\u001b[0m \u001b[0;32mas\u001b[0m \u001b[0mnp\u001b[0m\u001b[0;34m\u001b[0m\u001b[0m\n\u001b[0;32m----> 9\u001b[0;31m \u001b[0;32mfrom\u001b[0m \u001b[0;34m.\u001b[0m\u001b[0;34m.\u001b[0m \u001b[0;32mimport\u001b[0m \u001b[0mbackend\u001b[0m \u001b[0;32mas\u001b[0m \u001b[0mK\u001b[0m\u001b[0;34m\u001b[0m\u001b[0m\n\u001b[0m\u001b[1;32m     10\u001b[0m \u001b[0;34m\u001b[0m\u001b[0m\n\u001b[1;32m     11\u001b[0m \u001b[0;34m\u001b[0m\u001b[0m\n",
      "\u001b[0;32m~/anaconda3/lib/python3.6/site-packages/keras/backend/__init__.py\u001b[0m in \u001b[0;36m<module>\u001b[0;34m()\u001b[0m\n\u001b[1;32m     82\u001b[0m \u001b[0;32melif\u001b[0m \u001b[0m_BACKEND\u001b[0m \u001b[0;34m==\u001b[0m \u001b[0;34m'tensorflow'\u001b[0m\u001b[0;34m:\u001b[0m\u001b[0;34m\u001b[0m\u001b[0m\n\u001b[1;32m     83\u001b[0m     \u001b[0msys\u001b[0m\u001b[0;34m.\u001b[0m\u001b[0mstderr\u001b[0m\u001b[0;34m.\u001b[0m\u001b[0mwrite\u001b[0m\u001b[0;34m(\u001b[0m\u001b[0;34m'Using TensorFlow backend.\\n'\u001b[0m\u001b[0;34m)\u001b[0m\u001b[0;34m\u001b[0m\u001b[0m\n\u001b[0;32m---> 84\u001b[0;31m     \u001b[0;32mfrom\u001b[0m \u001b[0;34m.\u001b[0m\u001b[0mtensorflow_backend\u001b[0m \u001b[0;32mimport\u001b[0m \u001b[0;34m*\u001b[0m\u001b[0;34m\u001b[0m\u001b[0m\n\u001b[0m\u001b[1;32m     85\u001b[0m \u001b[0;32melse\u001b[0m\u001b[0;34m:\u001b[0m\u001b[0;34m\u001b[0m\u001b[0m\n\u001b[1;32m     86\u001b[0m     \u001b[0;32mraise\u001b[0m \u001b[0mValueError\u001b[0m\u001b[0;34m(\u001b[0m\u001b[0;34m'Unknown backend: '\u001b[0m \u001b[0;34m+\u001b[0m \u001b[0mstr\u001b[0m\u001b[0;34m(\u001b[0m\u001b[0m_BACKEND\u001b[0m\u001b[0;34m)\u001b[0m\u001b[0;34m)\u001b[0m\u001b[0;34m\u001b[0m\u001b[0m\n",
      "\u001b[0;32m~/anaconda3/lib/python3.6/site-packages/keras/backend/tensorflow_backend.py\u001b[0m in \u001b[0;36m<module>\u001b[0;34m()\u001b[0m\n\u001b[1;32m      3\u001b[0m \u001b[0;32mfrom\u001b[0m \u001b[0m__future__\u001b[0m \u001b[0;32mimport\u001b[0m \u001b[0mprint_function\u001b[0m\u001b[0;34m\u001b[0m\u001b[0m\n\u001b[1;32m      4\u001b[0m \u001b[0;34m\u001b[0m\u001b[0m\n\u001b[0;32m----> 5\u001b[0;31m \u001b[0;32mimport\u001b[0m \u001b[0mtensorflow\u001b[0m \u001b[0;32mas\u001b[0m \u001b[0mtf\u001b[0m\u001b[0;34m\u001b[0m\u001b[0m\n\u001b[0m\u001b[1;32m      6\u001b[0m \u001b[0;32mfrom\u001b[0m \u001b[0mtensorflow\u001b[0m\u001b[0;34m.\u001b[0m\u001b[0mpython\u001b[0m\u001b[0;34m.\u001b[0m\u001b[0mtraining\u001b[0m \u001b[0;32mimport\u001b[0m \u001b[0mmoving_averages\u001b[0m\u001b[0;34m\u001b[0m\u001b[0m\n\u001b[1;32m      7\u001b[0m \u001b[0;32mfrom\u001b[0m \u001b[0mtensorflow\u001b[0m\u001b[0;34m.\u001b[0m\u001b[0mpython\u001b[0m\u001b[0;34m.\u001b[0m\u001b[0mops\u001b[0m \u001b[0;32mimport\u001b[0m \u001b[0mtensor_array_ops\u001b[0m\u001b[0;34m\u001b[0m\u001b[0m\n",
      "\u001b[0;31mModuleNotFoundError\u001b[0m: No module named 'tensorflow'"
     ]
    }
   ],
   "source": [
    "###########################\n",
    "# Pre-processing the data #\n",
    "###########################\n",
    "\n",
    "\n",
    "import pandas as pd\n",
    "import numpy as np\n",
    "\n",
    "import matplotlib.pyplot as plt\n",
    "import pandas\n",
    "import math\n",
    "from keras.models import Sequential\n",
    "from keras.layers import Dense\n",
    "from keras.layers import LSTM\n",
    "from sklearn.preprocessing import MinMaxScaler\n",
    "from sklearn.metrics import mean_squared_error\n",
    "\n",
    "files = ['miller_idle', 'sam_wild', 'layton_idle', 'miller_wild', 'val_idle', 'layton_wild', 'sam_idle', 'val_wild']  #filename in the folder "
   ]
  },
  {
   "cell_type": "code",
   "execution_count": 9,
   "metadata": {},
   "outputs": [],
   "source": [
    "\n",
    "def preprocessing(filename):\n",
    "\n",
    "    d = pd.read_csv(filename)   #read the CSV file\n",
    "    # print (d)\n",
    "    d_drop = d.drop(\"Sensor type\", axis=1)   #drop the first column -- sensor type\n",
    "    #print (d_drop)\n",
    "    d_matrix = d_drop.as_matrix()   # Using pandas again to convert the revised table into a matrix\n",
    "    #print (d_matrix)\n",
    "\n",
    "    n_array = np.array(d_matrix) # now we use numpy to convert the pandas matrix into a Numpy array\n",
    "    #print (n_array)\n",
    "   \n",
    "    #delete the last row if the revised row number is odd, otherwise cut last too rows\n",
    "    n_array = n_array[:-1] if len(n_array) % 2 == 1 else n_array[:-2] \n",
    "    #print (n_conc)\n",
    "\n",
    "    #Concatenate the EMG and Accerlaration rows for (nearly) the same time moments\n",
    "    n_conc = np.concatenate((n_array[::2], n_array[1::2]), axis = 1)    \n",
    "    #print (n_conc)\n",
    "\n",
    "    n_del = np.delete(n_conc, [1, 2], axis = 1) #delete the second and third columns of each list in the matrix\n",
    "    print (n_del)\n",
    "    np.savetxt(filename + 'processed', n_del, delimiter=',', fmt = '%f')  #save the output into a file\n",
    "    return n_del"
   ]
  },
  {
   "cell_type": "code",
   "execution_count": 7,
   "metadata": {
    "scrolled": true
   },
   "outputs": [
    {
     "name": "stdout",
     "output_type": "stream",
     "text": [
      "[[ 4.0720e+03  1.0445e+01 -3.2800e-01  2.2650e-01 -9.4900e-01  1.2424e+01]\n",
      " [ 4.0430e+03  2.6840e+01 -3.1600e-01  2.1480e-01 -9.3700e-01  2.7884e+01]\n",
      " [ 4.0420e+03  3.7573e+01 -3.3500e-01  2.2650e-01 -9.4500e-01  3.8594e+01]\n",
      " ...\n",
      " [ 4.0410e+03  2.7594e+04 -3.0800e-01  2.5000e-01 -9.3300e-01  2.7596e+04]\n",
      " [ 4.0570e+03  2.7605e+04 -3.2000e-01  2.5780e-01 -9.8400e-01  2.7606e+04]\n",
      " [ 4.0160e+03  2.7615e+04 -3.2400e-01  2.6170e-01 -9.4100e-01  2.7617e+04]]\n",
      "(2651, 6)\n",
      "[[ 3.32300e+03  1.20290e+01 -9.70000e-02 -8.50000e-02  9.37500e-01\n",
      "   1.54460e+01]\n",
      " [ 3.60600e+03  2.57270e+01 -1.25000e-01 -1.01000e-01  9.33500e-01\n",
      "   2.74040e+01]\n",
      " [ 3.87600e+03  3.82600e+01 -1.21000e-01 -7.80000e-02  9.06200e-01\n",
      "   3.99180e+01]\n",
      " ...\n",
      " [ 7.75800e+03  2.36587e+05  9.76500e-01  2.14800e-01 -4.57000e-01\n",
      "   2.36588e+05]\n",
      " [ 7.65500e+03  2.36598e+05  1.00000e+00  1.79600e-01 -5.15000e-01\n",
      "   2.36599e+05]\n",
      " [ 7.63100e+03  2.36608e+05  1.02730e+00  1.87500e-01 -5.74000e-01\n",
      "   2.36609e+05]]\n",
      "(19524, 6)\n",
      "[[ 6.4320e+03  1.0412e+01 -1.8300e-01  3.1250e-01 -9.5300e-01  1.2344e+01]\n",
      " [ 6.5370e+03  2.1788e+01 -1.8300e-01  2.9290e-01 -9.6000e-01  2.2978e+01]\n",
      " [ 6.6310e+03  3.2779e+01 -1.7900e-01  3.1250e-01 -9.6400e-01  3.3795e+01]\n",
      " ...\n",
      " [ 6.8190e+03  2.7396e+04 -1.5600e-01  3.1250e-01 -9.5300e-01  2.7397e+04]\n",
      " [ 6.7250e+03  2.7406e+04 -1.5600e-01  3.2030e-01 -9.6000e-01  2.7408e+04]\n",
      " [ 6.7940e+03  2.7417e+04 -1.5600e-01  3.2420e-01 -9.6800e-01  2.7418e+04]]\n",
      "(2632, 6)\n",
      "[[ 4.08800e+03  1.05310e+01 -3.35000e-01  2.73400e-01 -9.49000e-01\n",
      "   1.24940e+01]\n",
      " [ 4.13300e+03  2.20360e+01 -3.43000e-01  2.73400e-01 -9.60000e-01\n",
      "   2.30800e+01]\n",
      " [ 4.14000e+03  3.27440e+01 -3.16000e-01  2.57800e-01 -9.53000e-01\n",
      "   3.37600e+01]\n",
      " ...\n",
      " [ 3.39100e+03  1.64368e+05 -1.99000e-01  5.11700e-01 -9.57000e-01\n",
      "   1.64369e+05]\n",
      " [ 3.35300e+03  1.64378e+05 -1.79000e-01  5.07800e-01 -9.37000e-01\n",
      "   1.64379e+05]\n",
      " [ 3.33000e+03  1.64389e+05 -1.44000e-01  5.00000e-01 -9.29000e-01\n",
      "   1.64390e+05]]\n",
      "(15696, 6)\n",
      "[[ 3.0630e+03  1.2385e+01  3.9000e-03 -5.4600e-01  7.5780e-01  1.6023e+01]\n",
      " [ 3.0640e+03  2.6765e+01  7.8000e-03 -5.5000e-01  7.5390e-01  2.8469e+01]\n",
      " [ 3.0600e+03  3.9354e+01  7.8000e-03 -5.3900e-01  7.5000e-01  4.1020e+01]\n",
      " ...\n",
      " [ 3.0640e+03  3.4883e+04  7.8000e-03 -5.8900e-01  7.2650e-01  3.4884e+04]\n",
      " [ 3.0640e+03  3.4895e+04  1.9500e-02 -6.0500e-01  7.0700e-01  3.4897e+04]\n",
      " [ 3.0630e+03  3.4907e+04  2.7300e-02 -6.2500e-01  7.1480e-01  3.4909e+04]]\n",
      "(2902, 6)\n",
      "[[ 6.78700e+03  1.03380e+01 -3.50000e-02  3.82800e-01 -9.25000e-01\n",
      "   1.22430e+01]\n",
      " [ 6.72000e+03  2.16320e+01 -3.50000e-02  3.71000e-01 -9.25000e-01\n",
      "   2.26820e+01]\n",
      " [ 6.85100e+03  3.23560e+01 -2.30000e-02  3.94500e-01 -9.29000e-01\n",
      "   3.33820e+01]\n",
      " ...\n",
      " [ 6.88600e+03  1.08065e+05  3.90000e-03  5.27300e-01 -8.55000e-01\n",
      "   1.08067e+05]\n",
      " [ 6.90900e+03  1.08076e+05  3.90000e-03  5.42900e-01 -8.51000e-01\n",
      "   1.08077e+05]\n",
      " [ 6.91200e+03  1.08086e+05  1.56000e-02  5.35100e-01 -8.63000e-01\n",
      "   1.08087e+05]]\n",
      "(10341, 6)\n",
      "[[ 3.1010e+03  1.2052e+01 -1.4400e-01 -1.1700e-01  9.1010e-01  1.5824e+01]\n",
      " [ 3.3250e+03  2.6141e+01 -1.4000e-01 -1.0500e-01  9.1790e-01  2.7816e+01]\n",
      " [ 3.6180e+03  3.8610e+01 -1.2800e-01 -1.1700e-01  9.0230e-01  4.0255e+01]\n",
      " ...\n",
      " [ 5.5280e+03  9.4282e+03 -1.1700e-01 -1.3600e-01  8.8670e-01  9.4298e+03]\n",
      " [ 5.4380e+03  9.4400e+03 -1.2800e-01 -1.3600e-01  8.8670e-01  9.4416e+03]\n",
      " [ 5.4960e+03  9.4519e+03 -1.2800e-01 -1.1700e-01  8.9450e-01  9.4535e+03]]\n",
      "(804, 6)\n",
      "[[ 3.06200e+03  1.23590e+01 -7.00000e-03 -5.15000e-01  7.77300e-01\n",
      "   1.64240e+01]\n",
      " [ 3.06100e+03  2.68230e+01  3.90000e-03 -5.19000e-01  7.73400e-01\n",
      "   2.85280e+01]\n",
      " [ 3.06100e+03  3.93920e+01  0.00000e+00 -5.07000e-01  7.57800e-01\n",
      "   4.10620e+01]\n",
      " ...\n",
      " [ 3.49500e+03  2.38885e+05 -4.20000e-02 -7.14000e-01  6.17100e-01\n",
      "   2.38886e+05]\n",
      " [ 3.48400e+03  2.38897e+05 -5.80000e-02 -7.26000e-01  6.17100e-01\n",
      "   2.38899e+05]\n",
      " [ 3.46400e+03  2.38909e+05 -4.20000e-02 -7.46000e-01  6.17100e-01\n",
      "   2.38911e+05]]\n",
      "(19580, 6)\n"
     ]
    }
   ],
   "source": [
    "for f in files:\n",
    "    data = preprocessing(f)\n",
    "    print(data.shape)"
   ]
  },
  {
   "cell_type": "code",
   "execution_count": null,
   "metadata": {
    "collapsed": true
   },
   "outputs": [],
   "source": []
  }
 ],
 "metadata": {
  "kernelspec": {
   "display_name": "Python 3",
   "language": "python",
   "name": "python3"
  },
  "language_info": {
   "codemirror_mode": {
    "name": "ipython",
    "version": 3
   },
   "file_extension": ".py",
   "mimetype": "text/x-python",
   "name": "python",
   "nbconvert_exporter": "python",
   "pygments_lexer": "ipython3",
   "version": "3.6.4"
  }
 },
 "nbformat": 4,
 "nbformat_minor": 2
}
