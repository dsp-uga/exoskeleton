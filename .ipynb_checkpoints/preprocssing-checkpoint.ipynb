{
 "cells": [
  {
   "cell_type": "code",
   "execution_count": 1,
   "metadata": {},
   "outputs": [],
   "source": [
    "###########################\n",
    "# Pre-processing the data #\n",
    "###########################\n",
    "\n",
    "\n",
    "import pandas as pd\n",
    "import numpy as np\n",
    "\n",
    "files = ['miller_idle', 'sam_wild', 'layton_idle', 'miller_wild', 'val_idle', 'layton_wild', 'sam_idle', 'val_wild']  #filename in the folder "
   ]
  },
  {
   "cell_type": "code",
   "execution_count": 2,
   "metadata": {},
   "outputs": [],
   "source": [
    "\n",
    "def preprocessing(filename):\n",
    "\n",
    "    d = pd.read_csv(filename)   #read the CSV file\n",
    "    # print (d)\n",
    "    d_drop = d.drop(\"Sensor type\", axis=1)   #drop the first column -- sensor type\n",
    "    #print (d_drop)\n",
    "    d_matrix = d_drop.as_matrix()   # Using pandas again to convert the revised table into a matrix\n",
    "    #print (d_matrix)\n",
    "\n",
    "    n_array = np.array(d_matrix) # now we use numpy to convert the pandas matrix into a Numpy array\n",
    "    #print (n_array)\n",
    "   \n",
    "    #delete the last row if the revised row number is odd, otherwise cut last too rows\n",
    "    n_array = n_array[:-1] if len(n_array) % 2 == 1 else n_array[:-2] \n",
    "    #print (n_conc)\n",
    "\n",
    "    #Concatenate the EMG and Accerlaration rows for (nearly) the same time moments\n",
    "    n_conc = np.concatenate((n_array[::2], n_array[1::2]), axis = 1)    \n",
    "    #print (n_conc)\n",
    "\n",
    "    n_del = np.delete(n_conc, [1, 2], axis = 1) #delete the second and third columns of each list in the matrix\n",
    "    print (n_del)\n",
    "    np.savetxt(filename + 'processed', n_del, delimiter=',', fmt = '%f')  #save the output into a file\n",
    "    return n_"
   ]
  },
  {
   "cell_type": "code",
   "execution_count": 4,
   "metadata": {},
   "outputs": [
    {
     "ename": "AttributeError",
     "evalue": "'str' object has no attribute 'shape'",
     "output_type": "error",
     "traceback": [
      "\u001b[0;31m---------------------------------------------------------------------------\u001b[0m",
      "\u001b[0;31mAttributeError\u001b[0m                            Traceback (most recent call last)",
      "\u001b[0;32m<ipython-input-4-5f93dc8aba5b>\u001b[0m in \u001b[0;36m<module>\u001b[0;34m()\u001b[0m\n\u001b[1;32m      1\u001b[0m \u001b[0;32mfor\u001b[0m \u001b[0mf\u001b[0m \u001b[0;32min\u001b[0m \u001b[0mfiles\u001b[0m\u001b[0;34m:\u001b[0m\u001b[0;34m\u001b[0m\u001b[0m\n\u001b[0;32m----> 2\u001b[0;31m     \u001b[0mprint\u001b[0m\u001b[0;34m(\u001b[0m\u001b[0mf\u001b[0m\u001b[0;34m.\u001b[0m\u001b[0mshape\u001b[0m\u001b[0;34m)\u001b[0m\u001b[0;34m\u001b[0m\u001b[0m\n\u001b[0m\u001b[1;32m      3\u001b[0m     \u001b[0mpreprocessing\u001b[0m\u001b[0;34m(\u001b[0m\u001b[0mf\u001b[0m\u001b[0;34m)\u001b[0m\u001b[0;34m\u001b[0m\u001b[0m\n",
      "\u001b[0;31mAttributeError\u001b[0m: 'str' object has no attribute 'shape'"
     ]
    }
   ],
   "source": [
    "for f in files:\n",
    "    print(f.shape)\n",
    "    preprocessing(f)"
   ]
  },
  {
   "cell_type": "code",
   "execution_count": null,
   "metadata": {
    "collapsed": true
   },
   "outputs": [],
   "source": []
  }
 ],
 "metadata": {
  "kernelspec": {
   "display_name": "Python 3",
   "language": "python",
   "name": "python3"
  },
  "language_info": {
   "codemirror_mode": {
    "name": "ipython",
    "version": 3
   },
   "file_extension": ".py",
   "mimetype": "text/x-python",
   "name": "python",
   "nbconvert_exporter": "python",
   "pygments_lexer": "ipython3",
   "version": "3.6.4"
  }
 },
 "nbformat": 4,
 "nbformat_minor": 2
}
